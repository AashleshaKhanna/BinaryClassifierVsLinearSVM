{
  "nbformat": 4,
  "nbformat_minor": 0,
  "metadata": {
    "colab": {
      "name": "Assignment 3.ipynb",
      "provenance": [],
      "collapsed_sections": []
    },
    "kernelspec": {
      "name": "python3",
      "display_name": "Python 3"
    },
    "language_info": {
      "name": "python"
    }
  },
  "cells": [
    {
      "cell_type": "code",
      "metadata": {
        "colab": {
          "base_uri": "https://localhost:8080/",
          "height": 225
        },
        "id": "x8ThLxbh4bf1",
        "outputId": "b2212b59-65d7-4364-fe78-74eaef6daf4c"
      },
      "source": [
        "# Binary Linear Classifier\n",
        "\n",
        "import numpy as np\n",
        "import matplotlib.pyplot as plt\n",
        "from sklearn.linear_model import LogisticRegression\n",
        "from sklearn import datasets\n",
        "from sklearn.model_selection import train_test_split\n",
        "\n",
        "# splitpoint = 20\n",
        "# data = datasets.load_iris()\n",
        "# training_data = data.data[:splitpoint,:2]\n",
        "# training_targets = data.target[:splitpoint]\n",
        "\n",
        "splitlocation = 80\n",
        "\n",
        "X, y = datasets.load_iris(return_X_y=True)\n",
        "\n",
        "X = X[:100,:2]\n",
        "y = y[:100]\n",
        "\n",
        "setl = train_test_split(X, y, test_size=splitlocation/100, random_state=0)\n",
        "\n",
        "training_data = setl[0]\n",
        "training_targets = setl[2]\n",
        "testing_data = setl[1]\n",
        "testing_targets = setl[3]\n",
        "\n",
        "blc = LogisticRegression()\n",
        "blc.fit(training_data, training_targets)\n",
        "\n",
        "x_min = training_data[:,0].min()-0.5\n",
        "x_max = training_data[:,0].max()+0.5\n",
        "y_min = training_data[:,1].min()-0.5\n",
        "y_max = training_data[:,1].max()+0.5\n",
        "\n",
        "# abs_min = np.array([x_min,y_min]).min()\n",
        "# abs_max = np.array([x_max,y_max]).max()\n",
        "\n",
        "step = 0.02\n",
        "#values = np.arange(abs_min,abs_max,step)\n",
        "xx, yy = np.meshgrid(np.arange(x_min, x_max, step), np.arange(y_min, y_max, step))\n",
        "#Z = blc.predict(np.c_[values,values])\n",
        "Z = blc.predict(np.c_[xx.ravel(), yy.ravel()])\n",
        "Z = Z.reshape(xx.shape)\n",
        "\n",
        "plt.figure(1, figsize=(4,3))\n",
        "plt.pcolormesh(xx, yy, Z, cmap=plt.cm.Paired)\n",
        "\n",
        "# Plotting training points\n",
        "# plt.scatter(training_data[:,0], training_data[:,1], c=training_targets, edgecolors='k', cmap=plt.cm.Paired)\n",
        "plt.scatter(testing_data[:,0], testing_data[:,1], c=testing_targets, edgecolors='k', cmap=plt.cm.Paired)\n",
        "plt.xlabel('Sepal length')\n",
        "plt.ylabel('Sepal width')\n",
        "\n",
        "plt.xlim(xx.min(), xx.max())\n",
        "plt.ylim(yy.min(), yy.max())\n",
        "\n",
        "plt.show()\n"
      ],
      "execution_count": 2,
      "outputs": [
        {
          "output_type": "display_data",
          "data": {
            "text/plain": [
              "<Figure size 288x216 with 1 Axes>"
            ],
            "image/png": "[encoded data removed]"
          },
          "metadata": {
            "needs_background": "light"
          }
        }
      ]
    },
    {
      "cell_type": "code",
      "metadata": {
        "colab": {
          "base_uri": "https://localhost:8080/"
        },
        "id": "ox-Cs0UC3cub",
        "outputId": "062090c2-fbd4-43f9-a10c-27fe90d03cd8"
      },
      "source": [
        "import numpy as np\n",
        "import matplotlib.pyplot as plt\n",
        "from sklearn.linear_model import LogisticRegression\n",
        "from sklearn import datasets, svm\n",
        "\n",
        "from sklearn.svm import LinearSVC\n",
        "from sklearn.pipeline import make_pipeline\n",
        "from sklearn.preprocessing import StandardScaler\n",
        "from sklearn.datasets import make_classification\n",
        "from sklearn.model_selection import train_test_split\n",
        "\n",
        "splitlocation = 80\n",
        "\n",
        "\n",
        "\n",
        "X, y = datasets.load_iris(return_X_y=True)\n",
        "\n",
        "X = X[:100,:2]\n",
        "y = y[:100]\n",
        "\n",
        "setp = train_test_split(X, y, test_size=0.8, random_state=0)\n",
        "\n",
        "training_data = setp[0]\n",
        "training_targets = setp[2]\n",
        "testing_data = setp[1]\n",
        "testing_targets = setp[3]\n",
        "\n",
        "print(f'{len(training_data)}\\n{len(training_targets)}\\n{len(testing_data)}\\n{len(testing_targets)}')"
      ],
      "execution_count": 4,
      "outputs": [
        {
          "output_type": "stream",
          "name": "stdout",
          "text": [
            "20\n",
            "20\n",
            "80\n",
            "80\n"
          ]
        }
      ]
    },
    {
      "cell_type": "code",
      "metadata": {
        "colab": {
          "base_uri": "https://localhost:8080/",
          "height": 260
        },
        "id": "_KZCbyYC-elO",
        "outputId": "1e39d8df-36ec-4877-e908-9b5a38800fda"
      },
      "source": [
        "# Linear SVM Classifier\n",
        "\n",
        "import numpy as np\n",
        "import matplotlib.pyplot as plt\n",
        "from sklearn.linear_model import LogisticRegression\n",
        "from sklearn import datasets, svm\n",
        "\n",
        "from sklearn.svm import LinearSVC\n",
        "from sklearn.pipeline import make_pipeline\n",
        "from sklearn.preprocessing import StandardScaler\n",
        "from sklearn.datasets import make_classification\n",
        "from sklearn.model_selection import train_test_split\n",
        "\n",
        "# splitlocation = 80\n",
        "\n",
        "\n",
        "\n",
        "# X, y = datasets.load_iris(return_X_y=True)\n",
        "\n",
        "# _ = train_test_split(X, y, test_size=0.8, random_state=0)\n",
        "\n",
        "# training_data = _[0]\n",
        "# training_targets = _[1]\n",
        "\n",
        "# training_data = data.data[:splitlocation,:2]\n",
        "# training_targets = data.target[:splitlocation]\n",
        "\n",
        "\n",
        "splitlocation = 80\n",
        "\n",
        "\n",
        "\n",
        "X, y = datasets.load_iris(return_X_y=True)\n",
        "\n",
        "X = X[:100,:2]\n",
        "y = y[:100]\n",
        "\n",
        "setq = train_test_split(X, y, test_size=splitlocation/100, random_state=0)\n",
        "\n",
        "training_data = setq[0]\n",
        "training_targets = setq[2]\n",
        "testing_data = setq[1]\n",
        "testing_targets = setq[3]\n",
        "\n",
        "# clf = make_pipeline(StandardScaler(), LinearSVC(random_state=0, tol=1e-5))\n",
        "clf = svm.SVC(kernel=\"linear\", C=100)\n",
        "clf.fit(training_data, training_targets)\n",
        "\n",
        "\n",
        "\n",
        "x_min = training_data[:,0].min()-0.5\n",
        "x_max = training_data[:,0].max()+0.5\n",
        "y_min = training_data[:,1].min()-0.5\n",
        "y_max = training_data[:,1].max()+0.5\n",
        "\n",
        "# abs_min = np.array([x_min,y_min]).min()\n",
        "# abs_max = np.array([x_max,y_max]).max()\n",
        "\n",
        "step = 0.02\n",
        "#values = np.arange(abs_min,abs_max,step)\n",
        "xx, yy = np.meshgrid(np.arange(x_min, x_max, step), np.arange(y_min, y_max, step))\n",
        "#Z = clf.predict(np.c_[values,values])\n",
        "Z = clf.predict(np.c_[xx.ravel(), yy.ravel()])\n",
        "Z = Z.reshape(xx.shape)\n",
        "\n",
        "plt.figure(1, figsize=(4,3))\n",
        "plt.pcolormesh(xx, yy, Z, cmap=plt.cm.Paired)\n",
        "\n",
        "# Plotting training points\n",
        "# plt.scatter(testing_data[:,0], testing_data[:,1], c=testing_targets, edgecolors=\"k\", marker=\"o\", cmap=plt.cm.Paired)\n",
        "plt.scatter(training_data[:,0], training_data[:,1], c=training_targets, edgecolors='k', cmap=plt.cm.Paired)\n",
        "plt.xlabel('Sepal length')\n",
        "plt.ylabel('Sepal width')\n",
        "\n",
        "plt.xlim(xx.min(), xx.max())\n",
        "plt.ylim(yy.min(), yy.max())\n",
        "\n",
        "\n",
        "# Retrieve Coefficient Values\n",
        "coefs = clf.coef_\n",
        "\n",
        "# Determine vertical offset of margins\n",
        "d = 1 / l2_norm(coefs[0])\n",
        "slope = -(coefs[0][0]/coefs[0][1])\n",
        "\n",
        "offset = d * np.power(1+np.power(slope,2), 1/2)\n",
        "\n",
        "intercept = -clf.intercept_[0]/clf.coef_[0][1]\n",
        "\n",
        "print(f'Offset: {offset}')\n",
        "print(f'Intercept: {intercept}')\n",
        "\n",
        "# # Plot line\n",
        "xline = np.linspace(x_min,x_max,50)\n",
        "yline = slope*xline + intercept\n",
        "plt.plot(xline,yline, 'k', label='Decision Boundary')\n",
        "\n",
        "xline = np.linspace(x_min,x_max,50)\n",
        "yline = slope*xline + intercept + offset\n",
        "plt.plot(xline,yline, 'k--')\n",
        "\n",
        "xline = np.linspace(x_min,x_max,50)\n",
        "yline = slope*xline + intercept - offset\n",
        "plt.plot(xline,yline, 'k--', label='Margin')\n",
        "\n",
        "plt.scatter(clf.support_vectors_[:,0], clf.support_vectors_[:,1], edgecolors='k', facecolors='none' ,marker='d', label='Support Vectors')\n",
        "\n",
        "# plt.legend()\n",
        "\n",
        "plt.show()\n"
      ],
      "execution_count": 8,
      "outputs": [
        {
          "output_type": "stream",
          "name": "stdout",
          "text": [
            "Offset: 0.29999160820412285\n",
            "Intercept: -2.298769231324805\n"
          ]
        },
        {
          "output_type": "display_data",
          "data": {
            "text/plain": [
              "<Figure size 288x216 with 1 Axes>"
            ],
            "image/png": "[encoded data removed]"
          },
          "metadata": {
            "needs_background": "light"
          }
        }
      ]
    },
    {
      "cell_type": "code",
      "metadata": {
        "id": "UZatpcfMxEqL"
      },
      "source": [
        "def l2_norm(a):\n",
        "  sum = 0\n",
        "  for i in a:\n",
        "    sum += np.power(i,2)\n",
        "\n",
        "  return np.power(sum, 1/2)\n",
        "\n",
        "def l1_norm(a):\n",
        "  sum = 0\n",
        "  for i in a:\n",
        "    sum += i\n",
        "\n",
        "  return sum"
      ],
      "execution_count": 7,
      "outputs": []
    },
    {
      "cell_type": "code",
      "metadata": {
        "id": "H5lz0Zq9dGyx"
      },
      "source": [
        "\n",
        "\n",
        "splitlocation8 = 80\n",
        "splitlocation4 = 40\n",
        "\n",
        "X, y = datasets.load_iris(return_X_y=True)\n",
        "\n",
        "X = X[:100,:2]\n",
        "y = y[:100]\n",
        "\n",
        "# Create sets for 0.8\n",
        "_ = train_test_split(X, y, test_size=splitlocation8/100, random_state=0)\n",
        "\n",
        "training_data8 = _[0]\n",
        "training_targets8 = _[2]\n",
        "testing_data8 = _[1]\n",
        "testing_targets8 = _[3]\n",
        "\n",
        "# Create sets for 0.4\n",
        "_ = train_test_split(X, y, test_size=splitlocation4/100, random_state=0)\n",
        "\n",
        "training_data4 = _[0]\n",
        "training_targets4 = _[2]\n",
        "testing_data4 = _[1]\n",
        "testing_targets4 = _[3]\n",
        "\n",
        "clf8 = svm.SVC(kernel=\"linear\", C=100)\n",
        "clf8.fit(training_data8, training_targets8)\n",
        "clf4 = svm.SVC(kernel=\"linear\", C=100)\n",
        "clf4.fit(training_data4, training_targets4)\n",
        "\n",
        "# Retrieve Coefficient Values\n",
        "coefs8 = clf8.coef_\n",
        "coefs4 = clf4.coef_\n",
        "coefs = blc.coef_\n",
        "\n",
        "# Determine vertical offset of margins\n",
        "d8 = 1 / l2_norm(coefs8[0])\n",
        "slope8 = -(coefs8[0][0]/coefs8[0][1])\n",
        "d4 = 1 / l2_norm(coefs4[0])\n",
        "slope4 = -(coefs4[0][0]/coefs4[0][1])\n",
        "d = 1 / l2_norm(coefs[0])\n",
        "slope = -(coefs[0][0]/coefs[0][1])\n",
        "\n",
        "\n",
        "intercept8 = -clf8.intercept_[0]/clf8.coef_[0][1]\n",
        "intercept4 = -clf4.intercept_[0]/clf4.coef_[0][1]\n",
        "intercept = -blc.intercept_[0]/blc.coef_[0][1]\n",
        "\n",
        "xline = np.linspace(x_min,x_max,50)\n",
        "y8line = slope8*xline + intercept8\n",
        "y4line = slope4*xline + intercept4\n",
        "yline = slope*xline + intercept\n",
        "plt.plot(xline,y8line, 'k', label='SVM test_size=0.8')\n",
        "plt.plot(xline,y4line, 'b', label='SVM test_size=0.4')\n",
        "plt.plot(xline,yline, 'r', label='Binary Linear test_size=0.8')\n",
        "\n",
        "# 0.8\n",
        "# offset = d8 * np.power(1+np.power(slope8,2), 1/2)\n",
        "# yline = slope8*xline + intercept8 + offset\n",
        "# plt.plot(xline,yline, 'k--')\n",
        "\n",
        "# yline = slope8*xline + intercept8 - offset\n",
        "# plt.plot(xline,yline, 'k--', label='Margin')\n",
        "\n",
        "# 0.4\n",
        "# offset = d4 * np.power(1+np.power(slope4,2), 1/2)\n",
        "# yline = slope4*xline + intercept4 + offset\n",
        "# plt.plot(xline,yline, 'k--')\n",
        "\n",
        "# yline = slope4*xline + intercept4 - offset\n",
        "# plt.plot(xline,yline, 'k--', label='Margin')\n",
        "plt.legend()\n",
        "\n",
        "plt.show()"
      ],
      "execution_count": null,
      "outputs": []
    },
    {
      "cell_type": "code",
      "metadata": {
        "colab": {
          "base_uri": "https://localhost:8080/",
          "height": 225
        },
        "id": "K4n77eqskdGD",
        "outputId": "c4d73137-f52f-427b-a43e-fb2f5d97366a"
      },
      "source": [
        "# All 150 Points\n",
        "\n",
        "# Linear SVM Classifier\n",
        "\n",
        "import numpy as np\n",
        "import matplotlib.pyplot as plt\n",
        "from sklearn.linear_model import LogisticRegression\n",
        "from sklearn import datasets, svm\n",
        "\n",
        "from sklearn.svm import LinearSVC\n",
        "from sklearn.pipeline import make_pipeline\n",
        "from sklearn.preprocessing import StandardScaler\n",
        "from sklearn.datasets import make_classification\n",
        "from sklearn.model_selection import train_test_split\n",
        "\n",
        "# splitlocation = 80\n",
        "\n",
        "\n",
        "\n",
        "# X, y = datasets.load_iris(return_X_y=True)\n",
        "\n",
        "# _ = train_test_split(X, y, test_size=0.8, random_state=0)\n",
        "\n",
        "# training_data = _[0]\n",
        "# training_targets = _[1]\n",
        "\n",
        "# training_data = data.data[:splitlocation,:2]\n",
        "# training_targets = data.target[:splitlocation]\n",
        "\n",
        "\n",
        "splitlocation = 80\n",
        "\n",
        "\n",
        "\n",
        "X, y = datasets.load_iris(return_X_y=True)\n",
        "\n",
        "X = X[:,:2]\n",
        "\n",
        "_ = train_test_split(X, y, test_size=splitlocation/100, random_state=0)\n",
        "\n",
        "training_data = _[0]\n",
        "training_targets = _[2]\n",
        "testing_data = _[1]\n",
        "testing_targets = _[3]\n",
        "\n",
        "# clf = make_pipeline(StandardScaler(), LinearSVC(random_state=0, tol=1e-5))\n",
        "clf = svm.SVC(kernel=\"poly\", C=100)\n",
        "clf.fit(training_data, training_targets)\n",
        "\n",
        "\n",
        "\n",
        "x_min = training_data[:,0].min()-0.5\n",
        "x_max = training_data[:,0].max()+0.5\n",
        "y_min = training_data[:,1].min()-0.5\n",
        "y_max = training_data[:,1].max()+0.5\n",
        "\n",
        "# abs_min = np.array([x_min,y_min]).min()\n",
        "# abs_max = np.array([x_max,y_max]).max()\n",
        "\n",
        "step = 0.02\n",
        "#values = np.arange(abs_min,abs_max,step)\n",
        "xx, yy = np.meshgrid(np.arange(x_min, x_max, step), np.arange(y_min, y_max, step))\n",
        "#Z = clf.predict(np.c_[values,values])\n",
        "Z = clf.predict(np.c_[xx.ravel(), yy.ravel()])\n",
        "Z = Z.reshape(xx.shape)\n",
        "\n",
        "plt.figure(1, figsize=(4,3))\n",
        "plt.pcolormesh(xx, yy, Z, cmap=plt.cm.Paired)\n",
        "\n",
        "# Plotting training points\n",
        "plt.scatter(testing_data[:,0], testing_data[:,1], c=testing_targets, edgecolors=\"k\", marker=\"o\", cmap=plt.cm.Paired)\n",
        "# plt.scatter(training_data[:,0], training_data[:,1], c=training_targets, edgecolors='k', cmap=plt.cm.Paired)\n",
        "plt.xlabel('Sepal length')\n",
        "plt.ylabel('Sepal width')\n",
        "\n",
        "plt.xlim(xx.min(), xx.max())\n",
        "plt.ylim(yy.min(), yy.max())\n",
        "\n",
        "\n",
        "# # Retrieve Coefficient Values\n",
        "# coefs = clf.coef_\n",
        "\n",
        "# # Determine vertical offset of margins\n",
        "# d = 1 / l2_norm(coefs[0])\n",
        "# slope = -(coefs[0][0]/coefs[0][1])\n",
        "\n",
        "# offset = d * np.power(1+np.power(slope,2), 1/2)\n",
        "\n",
        "# intercept = -clf.intercept_[0]/clf.coef_[0][1]\n",
        "\n",
        "# print(f'Offset: {offset}')\n",
        "# print(f'Intercept: {intercept}')\n",
        "\n",
        "# # # Plot line\n",
        "# xline = np.linspace(x_min,x_max,50)\n",
        "# yline = slope*xline + intercept\n",
        "# plt.plot(xline,yline, 'k', label='Decision Boundary')\n",
        "\n",
        "# xline = np.linspace(x_min,x_max,50)\n",
        "# yline = slope*xline + intercept + offset\n",
        "# plt.plot(xline,yline, 'k--')\n",
        "\n",
        "# xline = np.linspace(x_min,x_max,50)\n",
        "# yline = slope*xline + intercept - offset\n",
        "# plt.plot(xline,yline, 'k--', label='Margin')\n",
        "\n",
        "# plt.scatter(clf.support_vectors_[:,0], clf.support_vectors_[:,1], edgecolors='k', facecolors='none' ,marker='d', label='Support Vectors')\n",
        "\n",
        "# plt.legend()\n",
        "\n",
        "plt.show()\n"
      ],
      "execution_count": null,
      "outputs": [
        {
          "output_type": "display_data",
          "data": {
            "image/png": "[encoded data removed]",
            "text/plain": [
              "<Figure size 288x216 with 1 Axes>"
            ]
          },
          "metadata": {
            "needs_background": "light"
          }
        }
      ]
    },
    {
      "cell_type": "code",
      "metadata": {
        "colab": {
          "base_uri": "https://localhost:8080/"
        },
        "id": "N-EDisO5rlCv",
        "outputId": "809be41c-746c-4956-8db8-01b867fe10d3"
      },
      "source": [
        "Z"
      ],
      "execution_count": 10,
      "outputs": [
        {
          "output_type": "execute_result",
          "data": {
            "text/plain": [
              "array([[1, 1, 1, ..., 1, 1, 1],\n",
              "       [0, 1, 1, ..., 1, 1, 1],\n",
              "       [0, 0, 1, ..., 1, 1, 1],\n",
              "       ...,\n",
              "       [0, 0, 0, ..., 1, 1, 1],\n",
              "       [0, 0, 0, ..., 1, 1, 1],\n",
              "       [0, 0, 0, ..., 1, 1, 1]])"
            ]
          },
          "metadata": {},
          "execution_count": 10
        }
      ]
    },
    {
      "cell_type": "code",
      "metadata": {
        "colab": {
          "base_uri": "https://localhost:8080/"
        },
        "id": "2u2XA6fxCB4L",
        "outputId": "48e305a3-c9b4-4614-96cb-5d8433e4fa8c"
      },
      "source": [
        "d*2"
      ],
      "execution_count": 11,
      "outputs": [
        {
          "output_type": "execute_result",
          "data": {
            "text/plain": [
              "0.9130614888074922"
            ]
          },
          "metadata": {},
          "execution_count": 11
        }
      ]
    }
  ]
}